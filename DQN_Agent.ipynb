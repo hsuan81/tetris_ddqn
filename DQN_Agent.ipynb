{
 "cells": [
  {
   "cell_type": "code",
   "execution_count": null,
   "id": "3e088f10",
   "metadata": {},
   "outputs": [],
   "source": [
    "import gym, math, glob\n",
    "import numpy as np\n",
    "\n",
    "import cv2\n",
    "\n",
    "from timeit import default_timer as timer\n",
    "from datetime import timedelta\n",
    "\n",
    "import numpy as np\n",
    "import torch\n",
    "import torch.optim as optim\n",
    "import torch.nn as nn\n",
    "import torch.nn.functional as F\n",
    "from IPython.display import clear_output\n",
    "from matplotlib import pyplot as plt\n",
    "get_ipython().run_line_magic('matplotlib', 'inline')\n",
    "\n",
    "# from utils.wrappers import *\n",
    "# from agents.DQN import Model as DQN_Agent\n",
    "# from utils.ReplayMemory import ExperienceReplayMemory\n",
    "\n",
    "from utils.hyperparameters import Config\n",
    "from utils.plot import plot_all_data\n",
    "import Game.tetris_fun as game"
   ]
  },
  {
   "cell_type": "code",
   "execution_count": null,
   "id": "f3d086dd",
   "metadata": {},
   "outputs": [],
   "source": [
    "# Solution for error: no available video device\n",
    "import os\n",
    "os.environ[\"SDL_VIDEODRIVER\"] = \"dummy\""
   ]
  },
  {
   "cell_type": "code",
   "execution_count": null,
   "id": "7d6e0c71",
   "metadata": {},
   "outputs": [],
   "source": [
    "class DQN(nn.Model):\n",
    "    def __init__(self, num_actions, in_channels=3):\n",
    "        super(DQN, self).__init__()\n",
    "        self.in_channels = in_channels\n",
    "        self.num_actions = num_actions\n",
    "        \n",
    "        # could add batchnorm2d layers after each covnet if data volume is too large\n",
    "        # see: https://pytorch.org/tutorials/intermediate/reinforcement_q_learning.html\n",
    "        \n",
    "        self.conv1 = nn.Conv2d(self.in_channels, 32, kernel_size=8, stride=4)\n",
    "        self.conv2 = nn.Conv2d(32, 64, kernel_size=4, stride=2)\n",
    "        self.conv3 = nn.Conv2d(64, 64, kernel_size=3, stride=1)\n",
    "\n",
    "        self.fc1 = nn.Linear(self.feature_size(), 512)\n",
    "        self.fc2 = nn.Linear(512, self.num_actions)\n",
    "        \n",
    "        \n",
    "    def forward(self, x):\n",
    "        x = F.relu(self.conv1(x))\n",
    "        x = F.relu(self.conv2(x))\n",
    "        x = F.relu(self.conv3(x))\n",
    "        # reshape the tensor to one dimension for fc layers\n",
    "        x = x.view(x.size(0), -1)\n",
    "\n",
    "        x = F.relu(self.fc1(x))\n",
    "\n",
    "        return self.fc2(x)\n",
    "    \n",
    "    def feature_size(self):\n",
    "        return self.conv3(self.conv2(self.conv1(torch.zeros(1, *self.in_channels)))).view(1, -1).size(1)\n",
    "#         return (size - (kernel_size - 1) - 1) // stride  + 1\n",
    "    "
   ]
  }
 ],
 "metadata": {
  "kernelspec": {
   "display_name": "Python 3",
   "language": "python",
   "name": "python3"
  },
  "language_info": {
   "codemirror_mode": {
    "name": "ipython",
    "version": 3
   },
   "file_extension": ".py",
   "mimetype": "text/x-python",
   "name": "python",
   "nbconvert_exporter": "python",
   "pygments_lexer": "ipython3",
   "version": "3.8.8"
  }
 },
 "nbformat": 4,
 "nbformat_minor": 5
}
