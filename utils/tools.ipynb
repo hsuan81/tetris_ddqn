{
 "cells": [
  {
   "cell_type": "code",
   "execution_count": null,
   "metadata": {},
   "outputs": [],
   "source": [
    "import numpy as np"
   ]
  },
  {
   "cell_type": "code",
   "execution_count": null,
   "metadata": {},
   "outputs": [],
   "source": [
    "def move_axis(image_data):\n",
    "    # Adjust the order of the array axis cause PyTorch expects color channel to be the first for the input\n",
    "    return np.moveaxis(image_data, 2, 0)"
   ]
  },
  {
   "cell_type": "code",
   "execution_count": 8,
   "metadata": {},
   "outputs": [
    {
     "name": "stdout",
     "output_type": "stream",
     "text": [
      "[[0, 1, 2, 3, 4, 5, 6, 7], [0, 1, 2, 3, 4, 5, 6, 7], [0, 1, 2, 3, 4, 5, 6, 7], [0, 1, 2, 3, 4, 5, 6, 7], [0, 1, 2, 3, 4, 5, 6, 7], [0, 1, 2, 3, 4, 5, 6, 7], [0, 1, 2, 3, 4, 5, 6, 7], [0, 1, 2, 3, 4, 5, 6, 7]]\n",
      "(0, 0, 0, 0, 0, 0, 0, 0)\n",
      "(1, 1, 1, 1, 1, 1, 1, 1)\n",
      "(2, 2, 2, 2, 2, 2, 2, 2)\n",
      "(3, 3, 3, 3, 3, 3, 3, 3)\n",
      "(4, 4, 4, 4, 4, 4, 4, 4)\n",
      "(5, 5, 5, 5, 5, 5, 5, 5)\n",
      "(6, 6, 6, 6, 6, 6, 6, 6)\n",
      "(7, 7, 7, 7, 7, 7, 7, 7)\n",
      "9 19\n"
     ]
    }
   ],
   "source": [
    "x = [[i for i in range(8)]\n",
    "    for j in range(8)]\n",
    "print(x)\n",
    "for i in zip(*x):\n",
    "    print(i)\n",
    "a, b = 9, 19\n",
    "print(a, b)"
   ]
  },
  {
   "cell_type": "code",
   "execution_count": null,
   "metadata": {},
   "outputs": [],
   "source": []
  }
 ],
 "metadata": {
  "kernelspec": {
   "display_name": "Python 3",
   "language": "python",
   "name": "python3"
  },
  "language_info": {
   "codemirror_mode": {
    "name": "ipython",
    "version": 3
   },
   "file_extension": ".py",
   "mimetype": "text/x-python",
   "name": "python",
   "nbconvert_exporter": "python",
   "pygments_lexer": "ipython3",
   "version": "3.8.3"
  }
 },
 "nbformat": 4,
 "nbformat_minor": 5
}
