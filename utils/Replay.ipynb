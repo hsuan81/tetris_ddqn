{
 "cells": [
  {
   "cell_type": "code",
   "execution_count": null,
   "id": "4db57ee8",
   "metadata": {},
   "outputs": [],
   "source": [
    "import random\n",
    "import numpy as np\n",
    "from collections import deque "
   ]
  },
  {
   "cell_type": "code",
   "execution_count": null,
   "id": "3d1c445b",
   "metadata": {},
   "outputs": [],
   "source": [
    "\"\"\"This file is copied/apdated from https://pytorch.org/tutorials/intermediate/reinforcement_q_learning.html\"\"\"\n",
    "\n",
    "Transition = namedtuple('Transition',\n",
    "                        ('state', 'action', 'next_state', 'reward'))\n",
    "\n",
    "\n",
    "class ExperienceReplay:\n",
    "    \n",
    "    def __init__(self, capacity):\n",
    "        self.memory = deque([],maxlen=capacity)\n",
    "\n",
    "    def push(self, *args):\n",
    "        \"\"\"Save a transition\"\"\"\n",
    "        self.memory.append(Transition(*args))\n",
    "\n",
    "    def sample(self, batch_size):\n",
    "        return random.sample(self.memory, batch_size)\n",
    "\n",
    "    def __len__(self):\n",
    "        return len(self.memory)\n",
    "        "
   ]
  },
  {
   "cell_type": "code",
   "execution_count": null,
   "id": "a4b747f0",
   "metadata": {},
   "outputs": [],
   "source": [
    "class ReplayBuffer:\n",
    "    \n",
    "    def __init__(self, size, screen_shape=(84, 84)):\n",
    "        self.size = size\n",
    "        self.screen_shape = screen_shape\n",
    "        self.num_in_buffer = 0\n",
    "        self.screens = deque(maxlen=self.size)\n",
    "        self.actions = deque(maxlen=self.size)\n",
    "        self.rewards = deque(maxlen=self.size)\n",
    "#          self.next_screens = deque(maxlin=self.size)\n",
    "        self.terminal = deque(maxlen=self.size)\n",
    "        \n",
    "    def push(self, screen, action, reward):\n",
    "        self.screens.append(screen)\n",
    "        self.actions.append(np.unit8(action))\n",
    "        self.rewards.append(reward)\n",
    "#         self.next_screens.append(next_screens)\n",
    "        \n",
    "        self.num_in_buffer = len(self.screens)\n",
    "        \n",
    "    def can_sample(self, batch_size):\n",
    "        \"\"\"Returns true if `batch_size` different transitions can be sampled from the buffer.\"\"\"\n",
    "        return batch_size + 1 <= self.num_in_buffer\n",
    "    \n",
    "    def _encode_sample(self, idxes):\n",
    "        # Return batch data for screens, actions, rewards, next screens and terminal info\n",
    "        # one screen state corresponding to one action by default, needing to consider grouped screens and actions\n",
    "        obs_batch      = torch.from_numpy(np.concatenate([self.screens[idx] for idx in idxes], 0))\n",
    "        act_batch      = torch.from_numpy(np.concatenate([self.actions[idx] for idx in idxes], 0))\n",
    "        rew_batch      = torch.from_numpy(np.concatenate([self.rewards[idx] for idx in idxes], 0))\n",
    "        next_obs_batch = torch.from_numpy(np.concatenate([self.screens[idx + 1] for idx in idxes], 0))\n",
    "        done_mask      = np.array([1.0 if self.terminal[idx] else 0.0 for idx in idxes], dtype=np.float32)\n",
    "        \n",
    "        return obs_batch, act_batch, rew_batch, next_obs_batch, done_mask\n",
    "        \n",
    "    \n",
    "    def sample(self, batch_size):\n",
    "        assert self.can_sample(batch_size)\n",
    "        inds = random.sample(range(self.num_in_buffer), batch_size)\n",
    "        \n",
    "        return self._encode_sample(inds)\n",
    "        \n",
    "        \n",
    "        \n",
    "        "
   ]
  }
 ],
 "metadata": {
  "kernelspec": {
   "display_name": "Python 3",
   "language": "python",
   "name": "python3"
  },
  "language_info": {
   "codemirror_mode": {
    "name": "ipython",
    "version": 3
   },
   "file_extension": ".py",
   "mimetype": "text/x-python",
   "name": "python",
   "nbconvert_exporter": "python",
   "pygments_lexer": "ipython3",
   "version": "3.8.8"
  }
 },
 "nbformat": 4,
 "nbformat_minor": 5
}
