{
 "cells": [
  {
   "cell_type": "code",
   "execution_count": null,
   "id": "96254173",
   "metadata": {},
   "outputs": [],
   "source": [
    "import numpy as np"
   ]
  },
  {
   "cell_type": "code",
   "execution_count": null,
   "id": "31456e66",
   "metadata": {},
   "outputs": [],
   "source": [
    "def move_axis(image_data):\n",
    "    # Adjust the order of the array axis cause PyTorch expects color channel to be the first for the input\n",
    "    return np.moveaxis(image_data, 2, 0)"
   ]
  }
 ],
 "metadata": {
  "kernelspec": {
   "display_name": "Python 3",
   "language": "python",
   "name": "python3"
  },
  "language_info": {
   "codemirror_mode": {
    "name": "ipython",
    "version": 3
   },
   "file_extension": ".py",
   "mimetype": "text/x-python",
   "name": "python",
   "nbconvert_exporter": "python",
   "pygments_lexer": "ipython3",
   "version": "3.8.8"
  }
 },
 "nbformat": 4,
 "nbformat_minor": 5
}
